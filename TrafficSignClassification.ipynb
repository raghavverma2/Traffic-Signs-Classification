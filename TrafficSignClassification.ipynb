{
 "cells": [
  {
   "cell_type": "code",
   "execution_count": 43,
   "metadata": {
    "scrolled": true
   },
   "outputs": [],
   "source": [
    "import os\n",
    "import sys\n",
    "from glob import glob\n",
    "import h5py\n",
    "import time\n",
    "import progressbar\n",
    "\n",
    "import numpy as np\n",
    "\n",
    "from skimage import io, color, exposure, transform\n",
    "from sklearn.model_selection import train_test_split\n",
    "\n",
    "from keras.preprocessing.image import ImageDataGenerator\n",
    "from keras.models import Sequential, model_from_json\n",
    "from keras.layers.core import Dense, Dropout, Activation, Flatten\n",
    "from keras.layers.convolutional import Conv2D\n",
    "from keras.layers.pooling import MaxPooling2D\n",
    "from keras.optimizers import SGD\n",
    "from keras.utils import np_utils\n",
    "from keras.callbacks import LearningRateScheduler, ModelCheckpoint\n",
    "from keras import backend\n",
    "backend.set_image_data_format('channels_first')\n",
    "\n",
    "from matplotlib import pyplot\n",
    "%matplotlib inline"
   ]
  },
  {
   "cell_type": "code",
   "execution_count": 18,
   "metadata": {},
   "outputs": [],
   "source": [
    "NUM_CLASSES = 43\n",
    "IMG_SIZE = 48"
   ]
  },
  {
   "cell_type": "markdown",
   "metadata": {},
   "source": [
    "<h2> Preprocessing </h2>\n",
    "\n",
    "1. Histogram normalization in HSV yellow\n",
    "2. Crop central region\n",
    "3. Resize\n",
    "4. Roll RGB axis to 0"
   ]
  },
  {
   "cell_type": "code",
   "execution_count": 8,
   "metadata": {},
   "outputs": [],
   "source": [
    "def preprocess(image):\n",
    "    \n",
    "    # Histogram normalization in HSV yellow\n",
    "    temp = color.rgb2hsv(image)\n",
    "    temp[:,:,2] = exposure.equalize_hist(temp[:,:,2])\n",
    "    image = color.hsv2rgb(temp)\n",
    "    \n",
    "    # Crop central region\n",
    "    ms = min(image.shape[:-1])\n",
    "    center = image.shape[0]//2, image.shape[1]//2\n",
    "    image = image[\n",
    "        center[0] - ms//2 : center[0] + ms//2,\n",
    "        center[1] - ms//2 : center[1] + ms//2,\n",
    "        :\n",
    "    ]\n",
    "    \n",
    "    # Resize\n",
    "    image = transform.resize(image, (IMG_SIZE, IMG_SIZE))\n",
    "    \n",
    "    # Roll RGB axis to 0\n",
    "    image = np.rollaxis(image, -1)\n",
    "    \n",
    "    return image"
   ]
  },
  {
   "cell_type": "markdown",
   "metadata": {},
   "source": [
    "<h2> Preprocessing </h2>\n",
    "\n",
    "1. Store images into numpy arrays\n",
    "2. Get labels\n",
    "3. Convert to one-hot"
   ]
  },
  {
   "cell_type": "code",
   "execution_count": null,
   "metadata": {},
   "outputs": [
    {
     "name": "stdout",
     "output_type": "stream",
     "text": [
      "Total training images:\t39209\n",
      "Processing image\t35962 | 91.72% complete"
     ]
    }
   ],
   "source": [
    "root = 'GTSRB/Final_Training/Images/'\n",
    "images = []\n",
    "labels = []\n",
    "paths = glob(os.path.join(root, '*/*.ppm'))\n",
    "np.random.shuffle(paths)\n",
    "total = len(paths)\n",
    "\n",
    "start = time.time()\n",
    "print(\"Total training images:\\t{}\".format(total))\n",
    "for i in range(total):\n",
    "    sys.stdout.write('\\r')\n",
    "    sys.stdout.write(\"Processing image\\t{} | {}% complete\".format(i, round(i*100/total, 2)))\n",
    "    sys.stdout.flush()\n",
    "\n",
    "    path = paths[i]\n",
    "    image = preprocess(io.imread(path))\n",
    "    label = int(path.split('\\\\')[-2])\n",
    "    images.append(image)\n",
    "    labels.append(label)\n",
    "end = time.time()\n",
    "print(\"Finished preprocessing!\")\n",
    "\n",
    "print(\"\\nTime spent preprocessing: {} seconds\".format(round(end - start)))"
   ]
  },
  {
   "cell_type": "code",
   "execution_count": null,
   "metadata": {},
   "outputs": [],
   "source": [
    "print(images[0:10])\n",
    "print(labels[0:10])"
   ]
  },
  {
   "cell_type": "code",
   "execution_count": null,
   "metadata": {},
   "outputs": [],
   "source": []
  }
 ],
 "metadata": {
  "kernelspec": {
   "display_name": "Python 3",
   "language": "python",
   "name": "python3"
  },
  "language_info": {
   "codemirror_mode": {
    "name": "ipython",
    "version": 3
   },
   "file_extension": ".py",
   "mimetype": "text/x-python",
   "name": "python",
   "nbconvert_exporter": "python",
   "pygments_lexer": "ipython3",
   "version": "3.7.3"
  }
 },
 "nbformat": 4,
 "nbformat_minor": 2
}
